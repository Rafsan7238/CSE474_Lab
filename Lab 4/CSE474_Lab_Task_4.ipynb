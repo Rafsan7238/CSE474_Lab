{
  "nbformat": 4,
  "nbformat_minor": 0,
  "metadata": {
    "colab": {
      "name": "CSE474 Lab_Task 4.ipynb",
      "provenance": [],
      "authorship_tag": "ABX9TyN+dtQbO6/e3Yu75hFjmE/M",
      "include_colab_link": true
    },
    "kernelspec": {
      "name": "python3",
      "display_name": "Python 3"
    },
    "language_info": {
      "name": "python"
    },
    "accelerator": "GPU"
  },
  "cells": [
    {
      "cell_type": "markdown",
      "metadata": {
        "id": "view-in-github",
        "colab_type": "text"
      },
      "source": [
        "<a href=\"https://colab.research.google.com/github/Rafsan7238/CSE474_Lab/blob/main/Lab%204/CSE474_Lab_Task_4.ipynb\" target=\"_parent\"><img src=\"https://colab.research.google.com/assets/colab-badge.svg\" alt=\"Open In Colab\"/></a>"
      ]
    },
    {
      "cell_type": "markdown",
      "source": [
        "# **CSE474 Lab Task 4**\n",
        "## **Computing Value of $\\pi$ Using Monte Carlo Estimation**"
      ],
      "metadata": {
        "id": "y7uxCltQrheh"
      }
    },
    {
      "cell_type": "markdown",
      "source": [
        "### Import Necessary Libraries"
      ],
      "metadata": {
        "id": "S2Tpr1sqr092"
      }
    },
    {
      "cell_type": "code",
      "source": [
        "import math\n",
        "import matplotlib.pyplot as plt\n",
        "import numpy as np"
      ],
      "metadata": {
        "id": "sLqQNtAHr5Lc"
      },
      "execution_count": 1,
      "outputs": []
    },
    {
      "cell_type": "markdown",
      "source": [
        "### Initialise Global Variables"
      ],
      "metadata": {
        "id": "EJigOyfrsJw_"
      }
    },
    {
      "cell_type": "code",
      "source": [
        "# Initialise lists to hold no. of iterations, estimated pi values and absolute errors\n",
        "N = []\n",
        "pi_estimates = []\n",
        "errors = []\n",
        "\n",
        "# Initialise total value of i for N = 10**i\n",
        "total_i = 8"
      ],
      "metadata": {
        "id": "mHd-zUmpsNvF"
      },
      "execution_count": 2,
      "outputs": []
    },
    {
      "cell_type": "markdown",
      "source": [
        "### Run Monte Carlo Simulation"
      ],
      "metadata": {
        "id": "z7YgOnU3vC29"
      }
    },
    {
      "cell_type": "code",
      "execution_count": 3,
      "metadata": {
        "colab": {
          "base_uri": "https://localhost:8080/"
        },
        "id": "0yrgda5Vr12a",
        "outputId": "1f5617fb-f12b-4aea-919b-b97a5183a38e"
      },
      "outputs": [
        {
          "output_type": "stream",
          "name": "stdout",
          "text": [
            "N = 10; Estimated Pi = 2.4; Error = 0.7415926535897932\n",
            "N = 100; Estimated Pi = 3.04; Error = 0.10159265358979308\n",
            "N = 1000; Estimated Pi = 3.192; Error = 0.050407346410207055\n",
            "N = 10000; Estimated Pi = 3.156; Error = 0.014407346410207023\n",
            "N = 100000; Estimated Pi = 3.1442; Error = 0.00260734641020699\n",
            "N = 1000000; Estimated Pi = 3.144104; Error = 0.002511346410206894\n",
            "N = 10000000; Estimated Pi = 3.14174; Error = 0.00014734641020686112\n",
            "N = 100000000; Estimated Pi = 3.14179248; Error = 0.0001998264102067715\n"
          ]
        }
      ],
      "source": [
        "# Run the code for multiple trials\n",
        "for trial in range(1, total_i + 1):\n",
        "  \n",
        "  # No. of total points (or iteration number)\n",
        "  square_points = 10 ** trial\n",
        "  N.append(square_points)\n",
        "\n",
        "  # Counter for the points inside the circle\n",
        "  circle_points = 0\n",
        "  \n",
        "  \n",
        "  # Randomly generated x and y values from a uniform distribution\n",
        "  # Range of x and y values is -1 to 1\n",
        "  rand_x = np.random.default_rng().uniform(-1, 1, (square_points,))\n",
        "  rand_y = np.random.default_rng().uniform(-1, 1, (square_points,))\n",
        "  \n",
        "  \n",
        "  for index in range(square_points):\n",
        "\n",
        "    x = rand_x[index]\n",
        "    y = rand_y[index]\n",
        "\n",
        "    # Distance between (x, y) from the origin\n",
        "    origin_dist = x**2 + y**2\n",
        "  \n",
        "    # Checking if (x, y) lies inside the circle\n",
        "    if origin_dist <= 1:\n",
        "        circle_points += 1\n",
        "  \n",
        "  # Estimating value of pi,\n",
        "  # pi = 4*(no. of points generated inside the circle) / (no. of points generated inside the square)\n",
        "  pi = 4 * circle_points/ square_points\n",
        "  \n",
        "\n",
        "  # Print value of estimated pi and absolute error for each iteration\n",
        "  # Append value of estimated pi and absolute error to their lists\n",
        "  error = abs(math.pi - pi)\n",
        "\n",
        "  print(f\"N = {square_points}; Estimated Pi = {pi}; Error = {error}\")\n",
        "  \n",
        "  pi_estimates.append(pi)\n",
        "  errors.append(error)"
      ]
    },
    {
      "cell_type": "markdown",
      "source": [
        "### Plot N vs the Error"
      ],
      "metadata": {
        "id": "yLMXt9PM1VJz"
      }
    },
    {
      "cell_type": "code",
      "source": [
        "plt.plot(N, errors)\n",
        "plt.xlabel('No. of iterations (N)')\n",
        "plt.ylabel('Absolute Error')\n",
        "plt.title('Graph of N vs the Error')\n",
        "plt.show()"
      ],
      "metadata": {
        "colab": {
          "base_uri": "https://localhost:8080/",
          "height": 295
        },
        "id": "8aLZ_mM6oMQV",
        "outputId": "5effd205-ff3c-4ff3-f6a8-06c4c1a0c4de"
      },
      "execution_count": 4,
      "outputs": [
        {
          "output_type": "display_data",
          "data": {
            "text/plain": [
              "<Figure size 432x288 with 1 Axes>"
            ],
            "image/png": "[encoded data removed]"
          },
          "metadata": {
            "needs_background": "light"
          }
        }
      ]
    },
    {
      "cell_type": "markdown",
      "source": [
        "###  Log-Log Plot of the Error as a Function of N\n",
        "Show that the data can be fit to a straight\n",
        "line of slope -½ (this is the crux of the Monte Carlo simulation). "
      ],
      "metadata": {
        "id": "thx98RG_3QMG"
      }
    },
    {
      "cell_type": "code",
      "source": [
        "# Compute the log10 values of N and error\n",
        "log_N = np.log10(np.array(N))\n",
        "log_errors = np.log10(np.array(errors))\n",
        "\n",
        "# log-log plot\n",
        "plt.plot(log_N, log_errors, label = 'Basic Plot of N vs Error')\n",
        "plt.xlabel('log(N)')\n",
        "plt.ylabel('log(error)')\n",
        "plt.title('Log-Log Plot of the Error as a Function of N')\n",
        "\n",
        "# best-fit line plot\n",
        "slope, intercept = np.polyfit(log_N, log_errors, 1)\n",
        "plt.plot(log_N, slope * log_N + intercept, label = 'Best Fit Line')\n",
        "plt.legend()\n",
        "plt.show()\n",
        "\n",
        "# print slope of best fit line\n",
        "print('Slope of best fit line =', str(round(slope, 4)))"
      ],
      "metadata": {
        "colab": {
          "base_uri": "https://localhost:8080/",
          "height": 313
        },
        "id": "n2BorAVV3WLh",
        "outputId": "cb808ead-21ef-4e11-ba07-a46c99d14aeb"
      },
      "execution_count": 5,
      "outputs": [
        {
          "output_type": "display_data",
          "data": {
            "text/plain": [
              "<Figure size 432x288 with 1 Axes>"
            ],
            "image/png": "[encoded data removed]"
          },
          "metadata": {
            "needs_background": "light"
          }
        },
        {
          "output_type": "stream",
          "name": "stdout",
          "text": [
            "Slope of best fit line = -0.5218\n"
          ]
        }
      ]
    },
    {
      "cell_type": "markdown",
      "source": [
        "As can be seen above, the slope of the best fit line is proved to be almost equal to -0.5 as given in the problem description. "
      ],
      "metadata": {
        "id": "rfcRFls68Z7T"
      }
    }
  ]
}