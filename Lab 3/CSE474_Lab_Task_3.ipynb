{
  "nbformat": 4,
  "nbformat_minor": 0,
  "metadata": {
    "colab": {
      "name": "CSE474_Lab_Task_3.ipynb",
      "provenance": [],
      "authorship_tag": "ABX9TyMFFjnLUjO/ALfqRmOzasRC",
      "include_colab_link": true
    },
    "kernelspec": {
      "name": "python3",
      "display_name": "Python 3"
    },
    "language_info": {
      "name": "python"
    }
  },
  "cells": [
    {
      "cell_type": "markdown",
      "metadata": {
        "id": "view-in-github",
        "colab_type": "text"
      },
      "source": [
        "<a href=\"https://colab.research.google.com/github/Rafsan7238/CSE474_Lab/blob/main/Lab%203/CSE474_Lab_Task_3.ipynb\" target=\"_parent\"><img src=\"https://colab.research.google.com/assets/colab-badge.svg\" alt=\"Open In Colab\"/></a>"
      ]
    },
    {
      "cell_type": "markdown",
      "source": [
        "# **CSE474 Lab Task 3**"
      ],
      "metadata": {
        "id": "va0sXPzStZEP"
      }
    },
    {
      "cell_type": "markdown",
      "source": [
        "### Necessary installations and imports:"
      ],
      "metadata": {
        "id": "Z2qRZruWvPae"
      }
    },
    {
      "cell_type": "code",
      "source": [
        "!pip install simpy\n",
        "\n",
        "import random\n",
        "import simpy"
      ],
      "metadata": {
        "colab": {
          "base_uri": "https://localhost:8080/"
        },
        "id": "aqruqG-AvK2V",
        "outputId": "b17ef3c0-7ec3-4151-9d29-0d91987dddc7"
      },
      "execution_count": 1,
      "outputs": [
        {
          "output_type": "stream",
          "name": "stdout",
          "text": [
            "Requirement already satisfied: simpy in /usr/local/lib/python3.7/dist-packages (4.0.1)\n"
          ]
        }
      ]
    },
    {
      "cell_type": "markdown",
      "source": [
        "### Parameter Intialisation:"
      ],
      "metadata": {
        "id": "v0REpIKtv_2L"
      }
    },
    {
      "cell_type": "code",
      "source": [
        "RANDOM_SEED = 42\n",
        "NEW_CUSTOMERS = 40  # Total number of customers\n",
        "INTERVAL_CUSTOMERS = 6.0  # Generate new customers roughly every x seconds\n",
        "MIN_PATIENCE = 1  # Min. customer patience\n",
        "MAX_PATIENCE = 3  # Max. customer patience\n",
        "\n",
        "COUNTER_LIST = [] # List of counters\n",
        "WAITING_QUEUE = 0 # No. of people waiting"
      ],
      "metadata": {
        "id": "g_7zDp_wu7Zc"
      },
      "execution_count": 2,
      "outputs": []
    },
    {
      "cell_type": "markdown",
      "source": [
        "### Random Customer Generation:"
      ],
      "metadata": {
        "id": "QwHrh9uHwMw6"
      }
    },
    {
      "cell_type": "code",
      "source": [
        "def source(env, number, interval):\n",
        "    \"\"\"Source generates customers randomly\"\"\"\n",
        "    for index in range(number):\n",
        "        c = customer(env, 'Customer%02d' % index, time_in_bank=12.0)\n",
        "        env.process(c)\n",
        "        t = random.expovariate(1.0 / interval)\n",
        "        yield env.timeout(t)"
      ],
      "metadata": {
        "id": "UyFETitPwPpZ"
      },
      "execution_count": 3,
      "outputs": []
    },
    {
      "cell_type": "markdown",
      "source": [
        "### Customer Service:"
      ],
      "metadata": {
        "id": "TEzr4TuOwg1E"
      }
    },
    {
      "cell_type": "code",
      "source": [
        "def customer(env, name, time_in_bank):\n",
        "\n",
        "    global WAITING_QUEUE \n",
        "    reneged = False   # Keeps track if the customer left\n",
        "    assigned_counter_no = -1   # Assigned counter for service\n",
        "    waiting_time = 0   # Amount of time the customer is waiting for\n",
        "    patience = random.uniform(MIN_PATIENCE, MAX_PATIENCE)   # Max time before customer wishes to leave\n",
        "\n",
        "    \"\"\"Customer arrives, is served and leaves.\"\"\"\n",
        "    arrive = env.now\n",
        "    print('%7.4f %s: Here I am' % (arrive, name))\n",
        "\n",
        "    WAITING_QUEUE += 1   # Customer waits in a queue\n",
        "\n",
        "    while True:\n",
        "\n",
        "      ''' \n",
        "      Opens a new counter if the queue length is > 5. \n",
        "      If the counter limit is exceeded, the customer leaves. \n",
        "      ''' \n",
        "      if WAITING_QUEUE > 5: \n",
        "\n",
        "        opened = open_counter(env)\n",
        "\n",
        "        if not opened:\n",
        "          print('%7.4f %s: RENEGED after %6.3f' % (env.now, name, env.now-arrive))\n",
        "          reneged = True\n",
        "          WAITING_QUEUE -= 1\n",
        "          break\n",
        "\n",
        "      '''\n",
        "      Look for empty counters. \n",
        "      If found, return the counter no., leave the queue and break out of loop. \n",
        "      '''\n",
        "      for counter_no in range(0, len(COUNTER_LIST)):\n",
        "        if COUNTER_LIST[counter_no].count == 0:\n",
        "\n",
        "          print('%7.4f %s: Waited %6.3f' % (env.now, name, env.now-arrive))\n",
        "          assigned_counter_no = counter_no\n",
        "          WAITING_QUEUE -= 1\n",
        "          break\n",
        "\n",
        "      '''\n",
        "      If no counter is found after an iteration, increase the waiting time. \n",
        "      Increase the environment time by 1. \n",
        "      Else, break out of while loop. \n",
        "      '''\n",
        "      if assigned_counter_no == -1:\n",
        "        waiting_time += 1\n",
        "\n",
        "      else:\n",
        "        break\n",
        "\n",
        "      '''\n",
        "      If waiting time exceeds patience, try to open a new counter. \n",
        "      If opened, continue searching for an empty counter; else, the customer leaves.  \n",
        "      '''\n",
        "      if waiting_time > patience:\n",
        "        yield env.timeout(patience)\n",
        "        print('%7.4f %s: About to give up after %6.3f' % (env.now, name, patience))\n",
        "\n",
        "        opened = open_counter(env)\n",
        "\n",
        "        if not opened:\n",
        "          print('%7.4f %s: RENEGED after %6.3f' % (env.now, name, env.now-arrive))\n",
        "          reneged = True\n",
        "          WAITING_QUEUE -= 1\n",
        "          break\n",
        "\n",
        "      \n",
        "    '''\n",
        "    If not in while loop, and the customer did not leave, assign the counter according to counter no.\n",
        "    The counter serves the customer for a random amount of time, and the customer leaves. \n",
        "    '''  \n",
        "    if not reneged:\n",
        "\n",
        "      counter = COUNTER_LIST[assigned_counter_no]\n",
        "      req = counter.request()   # Request to be served by counter\n",
        "\n",
        "      tib = random.expovariate(1.0 / time_in_bank)   # Amount of service time \n",
        "      yield env.timeout(tib)\n",
        "      print('%7.4f %s: Served by Counter%02d' % (env.now, name, assigned_counter_no))\n",
        "      counter.release(req)   # Release the request"
      ],
      "metadata": {
        "id": "9ROd4W0WwlIx"
      },
      "execution_count": 4,
      "outputs": []
    },
    {
      "cell_type": "markdown",
      "source": [
        "### Open New Counter:"
      ],
      "metadata": {
        "id": "WEYrB33N6nPa"
      }
    },
    {
      "cell_type": "code",
      "source": [
        "'''\n",
        "Open a new counter if the counter capacity is not exceeded. \n",
        "Append the new counter to the counter list and return true. \n",
        "Else, return false. \n",
        "'''\n",
        "def open_counter(env):\n",
        "\n",
        "  global COUNTER_LIST\n",
        "\n",
        "  if len(COUNTER_LIST) > 20:\n",
        "    return False\n",
        "\n",
        "  else:\n",
        "    counter = simpy.Resource(env, capacity=1)\n",
        "    print('%7.4f Counter%02d: Opened' % (env.now, len(COUNTER_LIST)))\n",
        "    COUNTER_LIST.append(counter)\n",
        "    return True"
      ],
      "metadata": {
        "id": "T7yiQMgR6qB0"
      },
      "execution_count": 5,
      "outputs": []
    },
    {
      "cell_type": "markdown",
      "source": [
        "### Main Method"
      ],
      "metadata": {
        "id": "umavImIQ770F"
      }
    },
    {
      "cell_type": "code",
      "source": [
        "# Setup and start the simulation\n",
        "print('Bank renege modified')\n",
        "random.seed(RANDOM_SEED)\n",
        "env = simpy.Environment()\n",
        "\n",
        "# Start processes and run\n",
        "counter = open_counter(env)\n",
        "env.process(source(env, NEW_CUSTOMERS, INTERVAL_CUSTOMERS))\n",
        "env.run()"
      ],
      "metadata": {
        "colab": {
          "base_uri": "https://localhost:8080/"
        },
        "id": "-yeOCwGD7-0l",
        "outputId": "96f1b501-4037-4bfa-a346-d32c52090787"
      },
      "execution_count": 6,
      "outputs": [
        {
          "output_type": "stream",
          "name": "stdout",
          "text": [
            "Bank renege modified\n",
            " 0.0000 Counter00: Opened\n",
            " 0.0000 Customer00: Here I am\n",
            " 0.0000 Customer00: Waited  0.000\n",
            " 3.8595 Customer00: Served by Counter00\n",
            " 6.1204 Customer01: Here I am\n",
            " 6.1204 Customer01: Waited  0.000\n",
            " 7.6359 Customer02: Here I am\n",
            " 8.8098 Customer02: About to give up after  1.174\n",
            " 8.8098 Counter01: Opened\n",
            " 8.8098 Customer02: Waited  1.174\n",
            "15.3863 Customer02: Served by Counter01\n",
            "19.6704 Customer01: Served by Counter00\n",
            "20.9996 Customer03: Here I am\n",
            "20.9996 Customer03: Waited  0.000\n",
            "21.1811 Customer04: Here I am\n",
            "21.1811 Customer04: Waited  0.000\n",
            "21.3425 Customer05: Here I am\n",
            "22.7834 Customer05: About to give up after  1.441\n",
            "22.7834 Counter02: Opened\n",
            "22.7834 Customer05: Waited  1.441\n",
            "26.0665 Customer06: Here I am\n",
            "27.0794 Customer06: About to give up after  1.013\n",
            "27.0794 Counter03: Opened\n",
            "27.0794 Customer06: Waited  1.013\n",
            "29.4466 Customer03: Served by Counter00\n",
            "33.4611 Customer05: Served by Counter02\n",
            "33.7750 Customer04: Served by Counter01\n",
            "36.0129 Customer07: Here I am\n",
            "36.0129 Customer07: Waited  0.000\n",
            "38.0407 Customer07: Served by Counter00\n",
            "43.1996 Customer08: Here I am\n",
            "43.1996 Customer08: Waited  0.000\n",
            "44.3676 Customer08: Served by Counter00\n",
            "46.7470 Customer06: Served by Counter03\n",
            "62.1088 Customer09: Here I am\n",
            "62.1088 Customer09: Waited  0.000\n",
            "62.7191 Customer10: Here I am\n",
            "62.7191 Customer10: Waited  0.000\n",
            "71.9394 Customer10: Served by Counter01\n",
            "72.5934 Customer11: Here I am\n",
            "72.5934 Customer11: Waited  0.000\n",
            "73.2165 Customer09: Served by Counter00\n",
            "82.2301 Customer11: Served by Counter01\n",
            "94.2907 Customer12: Here I am\n",
            "94.2907 Customer12: Waited  0.000\n",
            "104.9015 Customer13: Here I am\n",
            "104.9015 Customer13: Waited  0.000\n",
            "105.4644 Customer13: Served by Counter01\n",
            "110.0688 Customer14: Here I am\n",
            "110.0688 Customer14: Waited  0.000\n",
            "111.0667 Customer14: Served by Counter01\n",
            "111.6206 Customer15: Here I am\n",
            "111.6206 Customer15: Waited  0.000\n",
            "113.2106 Customer16: Here I am\n",
            "113.2106 Customer16: Waited  0.000\n",
            "115.5290 Customer15: Served by Counter01\n",
            "118.0313 Customer12: Served by Counter00\n",
            "118.7585 Customer16: Served by Counter02\n",
            "119.2690 Customer17: Here I am\n",
            "119.2690 Customer17: Waited  0.000\n",
            "120.6796 Customer18: Here I am\n",
            "120.6796 Customer18: Waited  0.000\n",
            "122.9320 Customer18: Served by Counter01\n",
            "126.9450 Customer19: Here I am\n",
            "126.9450 Customer19: Waited  0.000\n",
            "132.6709 Customer19: Served by Counter01\n",
            "134.7816 Customer20: Here I am\n",
            "134.7816 Customer20: Waited  0.000\n",
            "144.5504 Customer20: Served by Counter01\n",
            "152.3789 Customer17: Served by Counter00\n",
            "162.1332 Customer21: Here I am\n",
            "162.1332 Customer21: Waited  0.000\n",
            "169.0570 Customer22: Here I am\n",
            "169.0570 Customer22: Waited  0.000\n",
            "170.6177 Customer23: Here I am\n",
            "170.6177 Customer23: Waited  0.000\n",
            "172.4875 Customer24: Here I am\n",
            "172.4875 Customer24: Waited  0.000\n",
            "173.6050 Customer22: Served by Counter01\n",
            "180.0865 Customer21: Served by Counter00\n",
            "185.0301 Customer25: Here I am\n",
            "185.0301 Customer25: Waited  0.000\n",
            "185.2733 Customer24: Served by Counter03\n",
            "188.0516 Customer26: Here I am\n",
            "188.0516 Customer26: Waited  0.000\n",
            "189.8979 Customer27: Here I am\n",
            "189.8979 Customer27: Waited  0.000\n",
            "191.7268 Customer28: Here I am\n",
            "192.3989 Customer25: Served by Counter00\n",
            "193.1654 Customer28: About to give up after  1.439\n",
            "193.1654 Counter04: Opened\n",
            "193.1654 Customer28: Waited  1.439\n",
            "194.7858 Customer29: Here I am\n",
            "194.7858 Customer29: Waited  0.000\n",
            "195.3649 Customer29: Served by Counter04\n",
            "197.9407 Customer26: Served by Counter01\n",
            "199.0601 Customer30: Here I am\n",
            "199.0601 Customer30: Waited  0.000\n",
            "199.7569 Customer31: Here I am\n",
            "199.7569 Customer31: Waited  0.000\n",
            "203.0476 Customer32: Here I am\n",
            "204.9752 Customer23: Served by Counter02\n",
            "205.1059 Customer32: About to give up after  2.058\n",
            "205.1059 Counter05: Opened\n",
            "205.1059 Customer32: Waited  2.058\n",
            "205.5247 Customer31: Served by Counter04\n",
            "217.2705 Customer27: Served by Counter03\n",
            "217.9072 Customer30: Served by Counter01\n",
            "236.3613 Customer33: Here I am\n",
            "236.3613 Customer33: Waited  0.000\n",
            "247.6239 Customer32: Served by Counter02\n",
            "248.1915 Customer34: Here I am\n",
            "248.1915 Customer34: Waited  0.000\n",
            "251.6679 Customer33: Served by Counter01\n",
            "251.9159 Customer34: Served by Counter02\n",
            "255.0602 Customer35: Here I am\n",
            "255.0602 Customer35: Waited  0.000\n",
            "261.2062 Customer36: Here I am\n",
            "261.2062 Customer36: Waited  0.000\n",
            "261.9064 Customer35: Served by Counter01\n",
            "264.8340 Customer37: Here I am\n",
            "264.8340 Customer37: Waited  0.000\n",
            "265.2449 Customer28: Served by Counter00\n",
            "266.6682 Customer38: Here I am\n",
            "266.6682 Customer38: Waited  0.000\n",
            "267.1957 Customer37: Served by Counter01\n",
            "270.9216 Customer38: Served by Counter00\n",
            "281.2936 Customer39: Here I am\n",
            "281.2936 Customer39: Waited  0.000\n",
            "283.2840 Customer39: Served by Counter00\n",
            "286.2417 Customer36: Served by Counter02\n"
          ]
        }
      ]
    }
  ]
}