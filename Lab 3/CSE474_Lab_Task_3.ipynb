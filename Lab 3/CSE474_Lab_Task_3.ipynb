{
  "nbformat": 4,
  "nbformat_minor": 0,
  "metadata": {
    "colab": {
      "name": "CSE474_Lab_Task_3.ipynb",
      "provenance": [],
      "authorship_tag": "ABX9TyP5sRthy6ebZ9xfcW2foGqt",
      "include_colab_link": true
    },
    "kernelspec": {
      "name": "python3",
      "display_name": "Python 3"
    },
    "language_info": {
      "name": "python"
    }
  },
  "cells": [
    {
      "cell_type": "markdown",
      "metadata": {
        "id": "view-in-github",
        "colab_type": "text"
      },
      "source": [
        "<a href=\"https://colab.research.google.com/github/Rafsan7238/CSE474_Lab/blob/main/Lab%203/CSE474_Lab_Task_3.ipynb\" target=\"_parent\"><img src=\"https://colab.research.google.com/assets/colab-badge.svg\" alt=\"Open In Colab\"/></a>"
      ]
    },
    {
      "cell_type": "markdown",
      "source": [
        "# **CSE474 Lab Task 3**"
      ],
      "metadata": {
        "id": "va0sXPzStZEP"
      }
    },
    {
      "cell_type": "markdown",
      "source": [
        "### Necessary installations and imports:"
      ],
      "metadata": {
        "id": "Z2qRZruWvPae"
      }
    },
    {
      "cell_type": "code",
      "source": [
        "!pip install simpy\n",
        "\n",
        "import random\n",
        "import simpy"
      ],
      "metadata": {
        "colab": {
          "base_uri": "https://localhost:8080/"
        },
        "id": "aqruqG-AvK2V",
        "outputId": "b1e689e5-0e87-483b-b2f4-8ef20dcae7c2"
      },
      "execution_count": 1,
      "outputs": [
        {
          "output_type": "stream",
          "name": "stdout",
          "text": [
            "Requirement already satisfied: simpy in /usr/local/lib/python3.7/dist-packages (4.0.1)\n"
          ]
        }
      ]
    },
    {
      "cell_type": "markdown",
      "source": [
        "### Parameter Intialisation:"
      ],
      "metadata": {
        "id": "v0REpIKtv_2L"
      }
    },
    {
      "cell_type": "code",
      "source": [
        "RANDOM_SEED = 42\n",
        "NEW_CUSTOMERS = 40  # Total number of customers\n",
        "INTERVAL_CUSTOMERS = 6.0  # Generate new customers roughly every x seconds\n",
        "MIN_PATIENCE = 1  # Min. customer patience\n",
        "MAX_PATIENCE = 5  # Max. customer patience\n",
        "\n",
        "COUNTER_LIST = [] # List of counters\n",
        "WAITING_QUEUE = 0 # No. of people waiting"
      ],
      "metadata": {
        "id": "g_7zDp_wu7Zc"
      },
      "execution_count": 2,
      "outputs": []
    },
    {
      "cell_type": "markdown",
      "source": [
        "### Random Customer Generation:"
      ],
      "metadata": {
        "id": "QwHrh9uHwMw6"
      }
    },
    {
      "cell_type": "code",
      "source": [
        "def source(env, number, interval):\n",
        "    \"\"\"Source generates customers randomly\"\"\"\n",
        "    for index in range(number):\n",
        "        c = customer(env, 'Customer%02d' % index, time_in_bank=12.0)\n",
        "        env.process(c)\n",
        "        t = random.expovariate(1.0 / interval)\n",
        "        yield env.timeout(t)"
      ],
      "metadata": {
        "id": "UyFETitPwPpZ"
      },
      "execution_count": 3,
      "outputs": []
    },
    {
      "cell_type": "markdown",
      "source": [
        "### Customer Service:"
      ],
      "metadata": {
        "id": "TEzr4TuOwg1E"
      }
    },
    {
      "cell_type": "code",
      "source": [
        "def customer(env, name, time_in_bank):\n",
        "\n",
        "    global WAITING_QUEUE \n",
        "    reneged = False   # Keeps track if the customer left\n",
        "    assigned_counter_no = -1   # Assigned counter for service\n",
        "    waiting_time = 0   # Amount of time the customer is waiting for\n",
        "    patience = random.randint(MIN_PATIENCE, MAX_PATIENCE)   # Max time before customer wishes to leave\n",
        "\n",
        "    \"\"\"Customer arrives, is served and leaves.\"\"\"\n",
        "    arrive = env.now\n",
        "    print('%7.4f %s: Here I am' % (arrive, name))\n",
        "\n",
        "    WAITING_QUEUE += 1   # Customer waits in a queue\n",
        "\n",
        "    while True:\n",
        "\n",
        "      ''' \n",
        "      Opens a new counter if the queue length is > 5. \n",
        "      If the counter limit is exceeded, the customer leaves. \n",
        "      ''' \n",
        "      if WAITING_QUEUE > 5: \n",
        "\n",
        "        opened = open_counter(env)\n",
        "\n",
        "        if not opened:\n",
        "          print('%7.4f %s: RENEGED after %6.3f' % (env.now, name, waiting_time))\n",
        "          reneged = True\n",
        "          WAITING_QUEUE -= 1\n",
        "          break\n",
        "\n",
        "      '''\n",
        "      Look for empty counters. \n",
        "      If found, return the counter no., leave the queue and break out of loop. \n",
        "      '''\n",
        "      for counter_no in range(0, len(COUNTER_LIST)):\n",
        "        if COUNTER_LIST[counter_no].count == 0:\n",
        "\n",
        "          print('%7.4f %s: Waited %6.3f' % (env.now, name, waiting_time))\n",
        "          assigned_counter_no = counter_no\n",
        "          WAITING_QUEUE -= 1\n",
        "          break\n",
        "\n",
        "      '''\n",
        "      If no counter is found after an iteration, increase the waiting time. \n",
        "      Increase the environment time by 1. \n",
        "      Else, break out of while loop. \n",
        "      '''\n",
        "      if assigned_counter_no == -1:\n",
        "        yield env.timeout(1)\n",
        "        waiting_time += 1\n",
        "\n",
        "      else:\n",
        "        break\n",
        "\n",
        "      '''\n",
        "      If waiting time exceeds patience, try to open a new counter. \n",
        "      If opened, continue searching for an empty counter; else, the customer leaves.  \n",
        "      '''\n",
        "      if waiting_time > patience:\n",
        "        print('%7.4f %s: About to give up after %6.3f' % (env.now, name, waiting_time))\n",
        "\n",
        "        opened = open_counter(env)\n",
        "\n",
        "        if not opened:\n",
        "          print('%7.4f %s: RENEGED after %6.3f' % (env.now, name, waiting_time))\n",
        "          reneged = True\n",
        "          WAITING_QUEUE -= 1\n",
        "          break\n",
        "\n",
        "      \n",
        "    '''\n",
        "    If not in while loop, and the customer did not leave, assign the counter according to counter no.\n",
        "    The counter serves the customer for a random amount of time, and the customer leaves. \n",
        "    '''  \n",
        "    if not reneged:\n",
        "\n",
        "      counter = COUNTER_LIST[assigned_counter_no]\n",
        "      req = counter.request()   # Request to be served by counter\n",
        "\n",
        "      tib = random.expovariate(1.0 / time_in_bank)   # Amount of service time \n",
        "      yield env.timeout(tib)\n",
        "      print('%7.4f %s: Served by Counter%02d' % (env.now, name, assigned_counter_no))\n",
        "      counter.release(req)   # Release the request"
      ],
      "metadata": {
        "id": "9ROd4W0WwlIx"
      },
      "execution_count": 4,
      "outputs": []
    },
    {
      "cell_type": "markdown",
      "source": [
        "### Open New Counter:"
      ],
      "metadata": {
        "id": "WEYrB33N6nPa"
      }
    },
    {
      "cell_type": "code",
      "source": [
        "'''\n",
        "Open a new counter if the counter capacity is not exceeded. \n",
        "Append the new counter to the counter list and return true. \n",
        "Else, return false. \n",
        "'''\n",
        "def open_counter(env):\n",
        "\n",
        "  global COUNTER_LIST\n",
        "\n",
        "  if len(COUNTER_LIST) > 20:\n",
        "    return False\n",
        "\n",
        "  else:\n",
        "    counter = simpy.Resource(env, capacity=1)\n",
        "    print('%7.4f Counter%02d: Opened' % (env.now, len(COUNTER_LIST)))\n",
        "    COUNTER_LIST.append(counter)\n",
        "    return True"
      ],
      "metadata": {
        "id": "T7yiQMgR6qB0"
      },
      "execution_count": 5,
      "outputs": []
    },
    {
      "cell_type": "markdown",
      "source": [
        "### Main Method"
      ],
      "metadata": {
        "id": "umavImIQ770F"
      }
    },
    {
      "cell_type": "code",
      "source": [
        "# Setup and start the simulation\n",
        "print('Bank renege modified')\n",
        "random.seed(RANDOM_SEED)\n",
        "env = simpy.Environment()\n",
        "\n",
        "# Start processes and run\n",
        "counter = open_counter(env)\n",
        "env.process(source(env, NEW_CUSTOMERS, INTERVAL_CUSTOMERS))\n",
        "env.run()"
      ],
      "metadata": {
        "colab": {
          "base_uri": "https://localhost:8080/"
        },
        "id": "-yeOCwGD7-0l",
        "outputId": "7df723d6-fe65-4823-d9b2-b49e7fce41a5"
      },
      "execution_count": 6,
      "outputs": [
        {
          "output_type": "stream",
          "name": "stdout",
          "text": [
            "Bank renege modified\n",
            " 0.0000 Counter00: Opened\n",
            " 0.0000 Customer00: Here I am\n",
            " 0.0000 Customer00: Waited  0.000\n",
            " 6.1204 Customer01: Here I am\n",
            " 7.8057 Customer02: Here I am\n",
            " 9.1204 Customer01: About to give up after  3.000\n",
            " 9.1204 Counter01: Opened\n",
            " 9.1204 Customer01: Waited  3.000\n",
            "10.2118 Customer01: Served by Counter01\n",
            "10.8057 Customer02: Waited  3.000\n",
            "15.8073 Customer03: Here I am\n",
            "15.9888 Customer04: Here I am\n",
            "16.2367 Customer00: Served by Counter00\n",
            "16.8073 Customer03: Waited  1.000\n",
            "17.1300 Customer03: Served by Counter00\n",
            "17.3823 Customer02: Served by Counter01\n",
            "17.5777 Customer05: Here I am\n",
            "17.5777 Customer05: Waited  0.000\n",
            "17.9888 Customer04: Waited  2.000\n",
            "18.9079 Customer06: Here I am\n",
            "20.8639 Customer07: Here I am\n",
            "20.9079 Customer06: About to give up after  2.000\n",
            "20.9079 Counter02: Opened\n",
            "20.9079 Customer06: Waited  2.000\n",
            "23.8639 Customer07: About to give up after  3.000\n",
            "23.8639 Counter03: Opened\n",
            "23.8639 Customer07: Waited  3.000\n",
            "24.1045 Customer05: Served by Counter00\n",
            "25.1456 Customer04: Served by Counter01\n",
            "28.8546 Customer07: Served by Counter03\n",
            "29.3968 Customer08: Here I am\n",
            "29.3968 Customer08: Waited  0.000\n",
            "30.4107 Customer09: Here I am\n",
            "30.4107 Customer09: Waited  0.000\n",
            "30.6906 Customer08: Served by Counter00\n",
            "33.2782 Customer10: Here I am\n",
            "33.2782 Customer10: Waited  0.000\n",
            "35.2814 Customer06: Served by Counter02\n",
            "38.8321 Customer11: Here I am\n",
            "38.8321 Customer11: Waited  0.000\n",
            "39.8171 Customer11: Served by Counter02\n",
            "43.4423 Customer12: Here I am\n",
            "43.4423 Customer12: Waited  0.000\n",
            "45.5242 Customer13: Here I am\n",
            "45.5242 Customer13: Waited  0.000\n",
            "48.2172 Customer14: Here I am\n",
            "48.4987 Customer15: Here I am\n",
            "48.9783 Customer10: Served by Counter00\n",
            "49.2172 Customer14: Waited  1.000\n",
            "50.4987 Customer15: About to give up after  2.000\n",
            "50.4987 Counter04: Opened\n",
            "50.4987 Customer15: Waited  2.000\n",
            "52.9774 Customer09: Served by Counter01\n",
            "57.3973 Customer16: Here I am\n",
            "57.3973 Customer16: Waited  0.000\n",
            "60.1561 Customer13: Served by Counter03\n",
            "60.2668 Customer17: Here I am\n",
            "60.2668 Customer17: Waited  0.000\n",
            "62.9900 Customer18: Here I am\n",
            "64.9900 Customer18: About to give up after  2.000\n",
            "64.9900 Counter05: Opened\n",
            "64.9900 Customer18: Waited  2.000\n",
            "65.5339 Customer17: Served by Counter03\n",
            "69.4434 Customer12: Served by Counter02\n",
            "69.5141 Customer16: Served by Counter01\n",
            "69.6451 Customer19: Here I am\n",
            "69.6451 Customer19: Waited  0.000\n",
            "70.7713 Customer20: Here I am\n",
            "70.7713 Customer20: Waited  0.000\n",
            "71.7861 Customer19: Served by Counter01\n",
            "72.4158 Customer14: Served by Counter00\n",
            "73.6343 Customer21: Here I am\n",
            "73.6343 Customer21: Waited  0.000\n",
            "73.7470 Customer20: Served by Counter02\n",
            "74.6611 Customer15: Served by Counter04\n",
            "75.9862 Customer22: Here I am\n",
            "75.9862 Customer22: Waited  0.000\n",
            "76.1819 Customer23: Here I am\n",
            "76.1819 Customer23: Waited  0.000\n",
            "76.2626 Customer18: Served by Counter05\n",
            "76.5928 Customer24: Here I am\n",
            "76.5928 Customer24: Waited  0.000\n",
            "76.7558 Customer21: Served by Counter00\n",
            "78.8600 Customer25: Here I am\n",
            "78.8600 Customer25: Waited  0.000\n",
            "80.7100 Customer25: Served by Counter00\n",
            "82.1394 Customer22: Served by Counter01\n",
            "82.6357 Customer24: Served by Counter03\n",
            "93.6188 Customer26: Here I am\n",
            "93.6188 Customer26: Waited  0.000\n",
            "94.5211 Customer27: Here I am\n",
            "94.5211 Customer27: Waited  0.000\n",
            "101.2672 Customer23: Served by Counter02\n",
            "102.7677 Customer28: Here I am\n",
            "102.7677 Customer28: Waited  0.000\n",
            "102.9105 Customer26: Served by Counter00\n",
            "105.8266 Customer29: Here I am\n",
            "105.8266 Customer29: Waited  0.000\n",
            "106.7199 Customer30: Here I am\n",
            "106.7199 Customer30: Waited  0.000\n",
            "106.9704 Customer29: Served by Counter00\n",
            "107.0095 Customer31: Here I am\n",
            "107.0095 Customer31: Waited  0.000\n",
            "108.0555 Customer32: Here I am\n",
            "108.0555 Customer32: Waited  0.000\n",
            "108.7103 Customer30: Served by Counter03\n",
            "110.9700 Customer33: Here I am\n",
            "110.9700 Customer33: Waited  0.000\n",
            "115.4889 Customer34: Here I am\n",
            "115.4889 Customer34: Waited  0.000\n",
            "115.5582 Customer35: Here I am\n",
            "117.8978 Customer31: Served by Counter00\n",
            "118.5582 Customer35: Waited  3.000\n",
            "120.1779 Customer36: Here I am\n",
            "121.8937 Customer27: Served by Counter01\n",
            "122.1779 Customer36: Waited  2.000\n",
            "122.6726 Customer37: Here I am\n",
            "126.3004 Customer38: Here I am\n",
            "126.6726 Customer37: About to give up after  4.000\n",
            "126.6726 Counter06: Opened\n",
            "126.6726 Customer37: Waited  4.000\n",
            "129.0241 Customer36: Served by Counter01\n",
            "129.2264 Customer34: Served by Counter05\n",
            "129.3004 Customer38: About to give up after  3.000\n",
            "129.3004 Counter07: Opened\n",
            "129.3004 Customer38: Waited  3.000\n",
            "130.6505 Customer38: Served by Counter01\n",
            "134.6304 Customer33: Served by Counter03\n",
            "135.1762 Customer37: Served by Counter06\n",
            "136.1214 Customer35: Served by Counter00\n",
            "147.7298 Customer39: Here I am\n",
            "147.7298 Customer39: Waited  0.000\n",
            "158.9974 Customer39: Served by Counter00\n",
            "173.8568 Customer28: Served by Counter02\n",
            "174.6828 Customer32: Served by Counter04\n"
          ]
        }
      ]
    }
  ]
}