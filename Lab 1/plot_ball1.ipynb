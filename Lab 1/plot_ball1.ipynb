{
  "nbformat": 4,
  "nbformat_minor": 0,
  "metadata": {
    "colab": {
      "name": "plot_ball1.ipynb",
      "provenance": [],
      "collapsed_sections": [],
      "authorship_tag": "ABX9TyMJzL4w5brsRTiiZ06+H1VO",
      "include_colab_link": true
    },
    "kernelspec": {
      "name": "python3",
      "display_name": "Python 3"
    },
    "language_info": {
      "name": "python"
    }
  },
  "cells": [
    {
      "cell_type": "markdown",
      "metadata": {
        "id": "view-in-github",
        "colab_type": "text"
      },
      "source": [
        "<a href=\"https://colab.research.google.com/github/Rafsan7238/CSE474_Lab/blob/main/Lab%201/plot_ball1.ipynb\" target=\"_parent\"><img src=\"https://colab.research.google.com/assets/colab-badge.svg\" alt=\"Open In Colab\"/></a>"
      ]
    },
    {
      "cell_type": "markdown",
      "source": [
        "# **CSE474 Lab-1 Task-1(a) Ques-1a**"
      ],
      "metadata": {
        "id": "qZKXNBaIJspq"
      }
    },
    {
      "cell_type": "markdown",
      "source": [
        "## **H.P.L. - A Primer on Scientific Programming with Python**\n",
        "## **Exercise 5.9**"
      ],
      "metadata": {
        "id": "6Wc0txvEKcxb"
      }
    },
    {
      "cell_type": "markdown",
      "source": [
        "### **Problem Statement:** "
      ],
      "metadata": {
        "id": "LFfM7D9yKtom"
      }
    },
    {
      "cell_type": "markdown",
      "source": [
        "Make a plot of the function $y(t)=v_{0}t-0.5gt^{2}$ for $v_{0}=10$, $g=9.81$, and $t∈[0, 2v_{0}/g]$\u0004. Set the axes labels as time (s) and height (m)."
      ],
      "metadata": {
        "id": "hQh9KQbFM_uo"
      }
    },
    {
      "cell_type": "markdown",
      "source": [
        "### **Solution:**"
      ],
      "metadata": {
        "id": "o2E7vT3oMT84"
      }
    },
    {
      "cell_type": "code",
      "source": [
        "# import necessary libraries\n",
        "import numpy as np\n",
        "import matplotlib.pyplot as plt\n",
        "\n",
        "v0 = 10\n",
        "g = 9.81\n",
        "# create 1000 points between 0 and 2v0/g\n",
        "t_points = np.linspace(0, (2 * v0 / g), 1000)\n",
        "\n",
        "# create a function to compute y(t) as the problem\n",
        "def y(t):\n",
        "  return v0 * t - 0.5 * g * t ** 2\n",
        "\n",
        "# generate the y(t) values from the t_points\n",
        "y_points = y(t_points)\n",
        "\n",
        "# plot the y_points vs t_points curve\n",
        "plt.plot(t_points, y_points)\n",
        "plt.xlabel(\"time (s)\")\n",
        "plt.ylabel(\"height (m)\")\n",
        "plt.xlim([t_points[0], t_points[-1]])\n",
        "plt.ylim([y_points.min(), y_points.max()])\n",
        "plt.title(\"Simple Trajectory for a Ball Thrown Upwards with V0=10m/s\")\n",
        "plt.show()"
      ],
      "metadata": {
        "colab": {
          "base_uri": "https://localhost:8080/",
          "height": 295
        },
        "id": "3SgvXipBMYoJ",
        "outputId": "257e0389-9ad3-4050-b50c-4e59b1943ba1"
      },
      "execution_count": 8,
      "outputs": [
        {
          "output_type": "display_data",
          "data": {
            "image/png": "[encoded data removed]",
            "text/plain": [
              "<Figure size 432x288 with 1 Axes>"
            ]
          },
          "metadata": {
            "needs_background": "light"
          }
        }
      ]
    }
  ]
}